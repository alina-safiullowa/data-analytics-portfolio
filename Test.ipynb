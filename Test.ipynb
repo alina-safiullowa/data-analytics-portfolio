{
  "nbformat": 4,
  "nbformat_minor": 0,
  "metadata": {
    "colab": {
      "provenance": [],
      "authorship_tag": "ABX9TyPefjAaAoI+ctKr3FY1XsR0",
      "include_colab_link": true
    },
    "kernelspec": {
      "name": "python3",
      "display_name": "Python 3"
    },
    "language_info": {
      "name": "python"
    }
  },
  "cells": [
    {
      "cell_type": "markdown",
      "metadata": {
        "id": "view-in-github",
        "colab_type": "text"
      },
      "source": [
        "<a href=\"https://colab.research.google.com/github/alina-safiullowa/data-analytics-portfolio/blob/main/Test.ipynb\" target=\"_parent\"><img src=\"https://colab.research.google.com/assets/colab-badge.svg\" alt=\"Open In Colab\"/></a>"
      ]
    },
    {
      "cell_type": "code",
      "source": [
        "import pandas as pd"
      ],
      "metadata": {
        "id": "ZrtSt8nbgO0K"
      },
      "execution_count": 2,
      "outputs": []
    },
    {
      "cell_type": "code",
      "source": [
        "df = pd.read_csv('applicant_task.csv')"
      ],
      "metadata": {
        "id": "18_HH2P2f-QE"
      },
      "execution_count": 3,
      "outputs": []
    },
    {
      "cell_type": "code",
      "source": [
        "df.head()"
      ],
      "metadata": {
        "colab": {
          "base_uri": "https://localhost:8080/",
          "height": 313
        },
        "id": "MvTifnGugkhS",
        "outputId": "87d5e197-8e3f-49af-9f95-b5d625df2508"
      },
      "execution_count": 4,
      "outputs": [
        {
          "output_type": "execute_result",
          "data": {
            "text/plain": [
              "   order_id                            source application_datetime  gender  \\\n",
              "0  10457322  a636bcf354a837fb5c25c3d5b940170b  2020-04-03 04:10:45     1.0   \n",
              "1  11236929  91ce888e6774bd668a675b5640499103  2020-07-12 03:31:39     NaN   \n",
              "2  10246280  91ce888e6774bd668a675b5640499103  2020-02-01 03:19:28     NaN   \n",
              "3  11058994  a636bcf354a837fb5c25c3d5b940170b  2020-05-19 06:18:16     0.0   \n",
              "4  10265283  91ce888e6774bd668a675b5640499103  2020-02-09 21:59:18     NaN   \n",
              "\n",
              "                   first_call                 first_reach  \\\n",
              "0  2020-04-03 16:43:59.508792  2020-04-03 22:11:27.455366   \n",
              "1  2020-07-12 04:47:12.312267  2020-07-12 07:05:38.094529   \n",
              "2  2020-02-04 04:45:20.910754  2020-02-04 10:42:35.204203   \n",
              "3  2020-05-19 07:18:45.609637  2020-05-19 08:39:54.048419   \n",
              "4  2020-02-10 09:14:45.941424  2020-02-10 20:01:01.297674   \n",
              "\n",
              "                operator_group_type               operator_group_name  \\\n",
              "0  a170e8b5b0085420fa52f9f9e1d546f9  d4f622b69e50e86a65cd6fae4bcf575f   \n",
              "1  a170e8b5b0085420fa52f9f9e1d546f9  d4f622b69e50e86a65cd6fae4bcf575f   \n",
              "2  e908f62885515872936a2bf07e5960a0  a0b8ef7535f9201f77c5a97d2ba4db2b   \n",
              "3  a170e8b5b0085420fa52f9f9e1d546f9  d4f622b69e50e86a65cd6fae4bcf575f   \n",
              "4  a170e8b5b0085420fa52f9f9e1d546f9  d4f622b69e50e86a65cd6fae4bcf575f   \n",
              "\n",
              "   trial_appointment_datetime  appointment_added_by_id  is_paid  \n",
              "0  2020-04-04 15:28:14.798018                  6620229        0  \n",
              "1  2020-07-12 15:02:07.545403                  4578767        0  \n",
              "2  2020-02-02 07:07:41.388133                  6290758        0  \n",
              "3  2020-05-19 13:01:02.901309                  4700850        0  \n",
              "4  2020-02-11 05:33:59.680231                  4500083        0  "
            ],
            "text/html": [
              "\n",
              "  <div id=\"df-84a88694-276f-455e-8e1c-45be8260e7cf\" class=\"colab-df-container\">\n",
              "    <div>\n",
              "<style scoped>\n",
              "    .dataframe tbody tr th:only-of-type {\n",
              "        vertical-align: middle;\n",
              "    }\n",
              "\n",
              "    .dataframe tbody tr th {\n",
              "        vertical-align: top;\n",
              "    }\n",
              "\n",
              "    .dataframe thead th {\n",
              "        text-align: right;\n",
              "    }\n",
              "</style>\n",
              "<table border=\"1\" class=\"dataframe\">\n",
              "  <thead>\n",
              "    <tr style=\"text-align: right;\">\n",
              "      <th></th>\n",
              "      <th>order_id</th>\n",
              "      <th>source</th>\n",
              "      <th>application_datetime</th>\n",
              "      <th>gender</th>\n",
              "      <th>first_call</th>\n",
              "      <th>first_reach</th>\n",
              "      <th>operator_group_type</th>\n",
              "      <th>operator_group_name</th>\n",
              "      <th>trial_appointment_datetime</th>\n",
              "      <th>appointment_added_by_id</th>\n",
              "      <th>is_paid</th>\n",
              "    </tr>\n",
              "  </thead>\n",
              "  <tbody>\n",
              "    <tr>\n",
              "      <th>0</th>\n",
              "      <td>10457322</td>\n",
              "      <td>a636bcf354a837fb5c25c3d5b940170b</td>\n",
              "      <td>2020-04-03 04:10:45</td>\n",
              "      <td>1.0</td>\n",
              "      <td>2020-04-03 16:43:59.508792</td>\n",
              "      <td>2020-04-03 22:11:27.455366</td>\n",
              "      <td>a170e8b5b0085420fa52f9f9e1d546f9</td>\n",
              "      <td>d4f622b69e50e86a65cd6fae4bcf575f</td>\n",
              "      <td>2020-04-04 15:28:14.798018</td>\n",
              "      <td>6620229</td>\n",
              "      <td>0</td>\n",
              "    </tr>\n",
              "    <tr>\n",
              "      <th>1</th>\n",
              "      <td>11236929</td>\n",
              "      <td>91ce888e6774bd668a675b5640499103</td>\n",
              "      <td>2020-07-12 03:31:39</td>\n",
              "      <td>NaN</td>\n",
              "      <td>2020-07-12 04:47:12.312267</td>\n",
              "      <td>2020-07-12 07:05:38.094529</td>\n",
              "      <td>a170e8b5b0085420fa52f9f9e1d546f9</td>\n",
              "      <td>d4f622b69e50e86a65cd6fae4bcf575f</td>\n",
              "      <td>2020-07-12 15:02:07.545403</td>\n",
              "      <td>4578767</td>\n",
              "      <td>0</td>\n",
              "    </tr>\n",
              "    <tr>\n",
              "      <th>2</th>\n",
              "      <td>10246280</td>\n",
              "      <td>91ce888e6774bd668a675b5640499103</td>\n",
              "      <td>2020-02-01 03:19:28</td>\n",
              "      <td>NaN</td>\n",
              "      <td>2020-02-04 04:45:20.910754</td>\n",
              "      <td>2020-02-04 10:42:35.204203</td>\n",
              "      <td>e908f62885515872936a2bf07e5960a0</td>\n",
              "      <td>a0b8ef7535f9201f77c5a97d2ba4db2b</td>\n",
              "      <td>2020-02-02 07:07:41.388133</td>\n",
              "      <td>6290758</td>\n",
              "      <td>0</td>\n",
              "    </tr>\n",
              "    <tr>\n",
              "      <th>3</th>\n",
              "      <td>11058994</td>\n",
              "      <td>a636bcf354a837fb5c25c3d5b940170b</td>\n",
              "      <td>2020-05-19 06:18:16</td>\n",
              "      <td>0.0</td>\n",
              "      <td>2020-05-19 07:18:45.609637</td>\n",
              "      <td>2020-05-19 08:39:54.048419</td>\n",
              "      <td>a170e8b5b0085420fa52f9f9e1d546f9</td>\n",
              "      <td>d4f622b69e50e86a65cd6fae4bcf575f</td>\n",
              "      <td>2020-05-19 13:01:02.901309</td>\n",
              "      <td>4700850</td>\n",
              "      <td>0</td>\n",
              "    </tr>\n",
              "    <tr>\n",
              "      <th>4</th>\n",
              "      <td>10265283</td>\n",
              "      <td>91ce888e6774bd668a675b5640499103</td>\n",
              "      <td>2020-02-09 21:59:18</td>\n",
              "      <td>NaN</td>\n",
              "      <td>2020-02-10 09:14:45.941424</td>\n",
              "      <td>2020-02-10 20:01:01.297674</td>\n",
              "      <td>a170e8b5b0085420fa52f9f9e1d546f9</td>\n",
              "      <td>d4f622b69e50e86a65cd6fae4bcf575f</td>\n",
              "      <td>2020-02-11 05:33:59.680231</td>\n",
              "      <td>4500083</td>\n",
              "      <td>0</td>\n",
              "    </tr>\n",
              "  </tbody>\n",
              "</table>\n",
              "</div>\n",
              "    <div class=\"colab-df-buttons\">\n",
              "\n",
              "  <div class=\"colab-df-container\">\n",
              "    <button class=\"colab-df-convert\" onclick=\"convertToInteractive('df-84a88694-276f-455e-8e1c-45be8260e7cf')\"\n",
              "            title=\"Convert this dataframe to an interactive table.\"\n",
              "            style=\"display:none;\">\n",
              "\n",
              "  <svg xmlns=\"http://www.w3.org/2000/svg\" height=\"24px\" viewBox=\"0 -960 960 960\">\n",
              "    <path d=\"M120-120v-720h720v720H120Zm60-500h600v-160H180v160Zm220 220h160v-160H400v160Zm0 220h160v-160H400v160ZM180-400h160v-160H180v160Zm440 0h160v-160H620v160ZM180-180h160v-160H180v160Zm440 0h160v-160H620v160Z\"/>\n",
              "  </svg>\n",
              "    </button>\n",
              "\n",
              "  <style>\n",
              "    .colab-df-container {\n",
              "      display:flex;\n",
              "      gap: 12px;\n",
              "    }\n",
              "\n",
              "    .colab-df-convert {\n",
              "      background-color: #E8F0FE;\n",
              "      border: none;\n",
              "      border-radius: 50%;\n",
              "      cursor: pointer;\n",
              "      display: none;\n",
              "      fill: #1967D2;\n",
              "      height: 32px;\n",
              "      padding: 0 0 0 0;\n",
              "      width: 32px;\n",
              "    }\n",
              "\n",
              "    .colab-df-convert:hover {\n",
              "      background-color: #E2EBFA;\n",
              "      box-shadow: 0px 1px 2px rgba(60, 64, 67, 0.3), 0px 1px 3px 1px rgba(60, 64, 67, 0.15);\n",
              "      fill: #174EA6;\n",
              "    }\n",
              "\n",
              "    .colab-df-buttons div {\n",
              "      margin-bottom: 4px;\n",
              "    }\n",
              "\n",
              "    [theme=dark] .colab-df-convert {\n",
              "      background-color: #3B4455;\n",
              "      fill: #D2E3FC;\n",
              "    }\n",
              "\n",
              "    [theme=dark] .colab-df-convert:hover {\n",
              "      background-color: #434B5C;\n",
              "      box-shadow: 0px 1px 3px 1px rgba(0, 0, 0, 0.15);\n",
              "      filter: drop-shadow(0px 1px 2px rgba(0, 0, 0, 0.3));\n",
              "      fill: #FFFFFF;\n",
              "    }\n",
              "  </style>\n",
              "\n",
              "    <script>\n",
              "      const buttonEl =\n",
              "        document.querySelector('#df-84a88694-276f-455e-8e1c-45be8260e7cf button.colab-df-convert');\n",
              "      buttonEl.style.display =\n",
              "        google.colab.kernel.accessAllowed ? 'block' : 'none';\n",
              "\n",
              "      async function convertToInteractive(key) {\n",
              "        const element = document.querySelector('#df-84a88694-276f-455e-8e1c-45be8260e7cf');\n",
              "        const dataTable =\n",
              "          await google.colab.kernel.invokeFunction('convertToInteractive',\n",
              "                                                    [key], {});\n",
              "        if (!dataTable) return;\n",
              "\n",
              "        const docLinkHtml = 'Like what you see? Visit the ' +\n",
              "          '<a target=\"_blank\" href=https://colab.research.google.com/notebooks/data_table.ipynb>data table notebook</a>'\n",
              "          + ' to learn more about interactive tables.';\n",
              "        element.innerHTML = '';\n",
              "        dataTable['output_type'] = 'display_data';\n",
              "        await google.colab.output.renderOutput(dataTable, element);\n",
              "        const docLink = document.createElement('div');\n",
              "        docLink.innerHTML = docLinkHtml;\n",
              "        element.appendChild(docLink);\n",
              "      }\n",
              "    </script>\n",
              "  </div>\n",
              "\n",
              "\n",
              "<div id=\"df-0e586b1d-7552-40ec-b4a9-78e932644e79\">\n",
              "  <button class=\"colab-df-quickchart\" onclick=\"quickchart('df-0e586b1d-7552-40ec-b4a9-78e932644e79')\"\n",
              "            title=\"Suggest charts\"\n",
              "            style=\"display:none;\">\n",
              "\n",
              "<svg xmlns=\"http://www.w3.org/2000/svg\" height=\"24px\"viewBox=\"0 0 24 24\"\n",
              "     width=\"24px\">\n",
              "    <g>\n",
              "        <path d=\"M19 3H5c-1.1 0-2 .9-2 2v14c0 1.1.9 2 2 2h14c1.1 0 2-.9 2-2V5c0-1.1-.9-2-2-2zM9 17H7v-7h2v7zm4 0h-2V7h2v10zm4 0h-2v-4h2v4z\"/>\n",
              "    </g>\n",
              "</svg>\n",
              "  </button>\n",
              "\n",
              "<style>\n",
              "  .colab-df-quickchart {\n",
              "      --bg-color: #E8F0FE;\n",
              "      --fill-color: #1967D2;\n",
              "      --hover-bg-color: #E2EBFA;\n",
              "      --hover-fill-color: #174EA6;\n",
              "      --disabled-fill-color: #AAA;\n",
              "      --disabled-bg-color: #DDD;\n",
              "  }\n",
              "\n",
              "  [theme=dark] .colab-df-quickchart {\n",
              "      --bg-color: #3B4455;\n",
              "      --fill-color: #D2E3FC;\n",
              "      --hover-bg-color: #434B5C;\n",
              "      --hover-fill-color: #FFFFFF;\n",
              "      --disabled-bg-color: #3B4455;\n",
              "      --disabled-fill-color: #666;\n",
              "  }\n",
              "\n",
              "  .colab-df-quickchart {\n",
              "    background-color: var(--bg-color);\n",
              "    border: none;\n",
              "    border-radius: 50%;\n",
              "    cursor: pointer;\n",
              "    display: none;\n",
              "    fill: var(--fill-color);\n",
              "    height: 32px;\n",
              "    padding: 0;\n",
              "    width: 32px;\n",
              "  }\n",
              "\n",
              "  .colab-df-quickchart:hover {\n",
              "    background-color: var(--hover-bg-color);\n",
              "    box-shadow: 0 1px 2px rgba(60, 64, 67, 0.3), 0 1px 3px 1px rgba(60, 64, 67, 0.15);\n",
              "    fill: var(--button-hover-fill-color);\n",
              "  }\n",
              "\n",
              "  .colab-df-quickchart-complete:disabled,\n",
              "  .colab-df-quickchart-complete:disabled:hover {\n",
              "    background-color: var(--disabled-bg-color);\n",
              "    fill: var(--disabled-fill-color);\n",
              "    box-shadow: none;\n",
              "  }\n",
              "\n",
              "  .colab-df-spinner {\n",
              "    border: 2px solid var(--fill-color);\n",
              "    border-color: transparent;\n",
              "    border-bottom-color: var(--fill-color);\n",
              "    animation:\n",
              "      spin 1s steps(1) infinite;\n",
              "  }\n",
              "\n",
              "  @keyframes spin {\n",
              "    0% {\n",
              "      border-color: transparent;\n",
              "      border-bottom-color: var(--fill-color);\n",
              "      border-left-color: var(--fill-color);\n",
              "    }\n",
              "    20% {\n",
              "      border-color: transparent;\n",
              "      border-left-color: var(--fill-color);\n",
              "      border-top-color: var(--fill-color);\n",
              "    }\n",
              "    30% {\n",
              "      border-color: transparent;\n",
              "      border-left-color: var(--fill-color);\n",
              "      border-top-color: var(--fill-color);\n",
              "      border-right-color: var(--fill-color);\n",
              "    }\n",
              "    40% {\n",
              "      border-color: transparent;\n",
              "      border-right-color: var(--fill-color);\n",
              "      border-top-color: var(--fill-color);\n",
              "    }\n",
              "    60% {\n",
              "      border-color: transparent;\n",
              "      border-right-color: var(--fill-color);\n",
              "    }\n",
              "    80% {\n",
              "      border-color: transparent;\n",
              "      border-right-color: var(--fill-color);\n",
              "      border-bottom-color: var(--fill-color);\n",
              "    }\n",
              "    90% {\n",
              "      border-color: transparent;\n",
              "      border-bottom-color: var(--fill-color);\n",
              "    }\n",
              "  }\n",
              "</style>\n",
              "\n",
              "  <script>\n",
              "    async function quickchart(key) {\n",
              "      const quickchartButtonEl =\n",
              "        document.querySelector('#' + key + ' button');\n",
              "      quickchartButtonEl.disabled = true;  // To prevent multiple clicks.\n",
              "      quickchartButtonEl.classList.add('colab-df-spinner');\n",
              "      try {\n",
              "        const charts = await google.colab.kernel.invokeFunction(\n",
              "            'suggestCharts', [key], {});\n",
              "      } catch (error) {\n",
              "        console.error('Error during call to suggestCharts:', error);\n",
              "      }\n",
              "      quickchartButtonEl.classList.remove('colab-df-spinner');\n",
              "      quickchartButtonEl.classList.add('colab-df-quickchart-complete');\n",
              "    }\n",
              "    (() => {\n",
              "      let quickchartButtonEl =\n",
              "        document.querySelector('#df-0e586b1d-7552-40ec-b4a9-78e932644e79 button');\n",
              "      quickchartButtonEl.style.display =\n",
              "        google.colab.kernel.accessAllowed ? 'block' : 'none';\n",
              "    })();\n",
              "  </script>\n",
              "</div>\n",
              "\n",
              "    </div>\n",
              "  </div>\n"
            ],
            "application/vnd.google.colaboratory.intrinsic+json": {
              "type": "dataframe",
              "variable_name": "df",
              "summary": "{\n  \"name\": \"df\",\n  \"rows\": 10000,\n  \"fields\": [\n    {\n      \"column\": \"order_id\",\n      \"properties\": {\n        \"dtype\": \"number\",\n        \"std\": 1270723,\n        \"min\": 3896499,\n        \"max\": 11961069,\n        \"num_unique_values\": 10000,\n        \"samples\": [\n          10276939,\n          3908388,\n          11170519\n        ],\n        \"semantic_type\": \"\",\n        \"description\": \"\"\n      }\n    },\n    {\n      \"column\": \"source\",\n      \"properties\": {\n        \"dtype\": \"category\",\n        \"num_unique_values\": 29,\n        \"samples\": [\n          \"b0521b815783c8a1c07cab1f61a43b27\",\n          \"cd48e195ee1a590504a0515b4f9b41e8\",\n          \"0cbc9029b6168ca138da344f4a06c2f7\"\n        ],\n        \"semantic_type\": \"\",\n        \"description\": \"\"\n      }\n    },\n    {\n      \"column\": \"application_datetime\",\n      \"properties\": {\n        \"dtype\": \"object\",\n        \"num_unique_values\": 9996,\n        \"samples\": [\n          \"2020-01-30 18:37:41\",\n          \"2020-10-14 10:28:05\",\n          \"2020-11-27 06:12:57\"\n        ],\n        \"semantic_type\": \"\",\n        \"description\": \"\"\n      }\n    },\n    {\n      \"column\": \"gender\",\n      \"properties\": {\n        \"dtype\": \"number\",\n        \"std\": 0.491204063112561,\n        \"min\": 0.0,\n        \"max\": 1.0,\n        \"num_unique_values\": 2,\n        \"samples\": [\n          0.0,\n          1.0\n        ],\n        \"semantic_type\": \"\",\n        \"description\": \"\"\n      }\n    },\n    {\n      \"column\": \"first_call\",\n      \"properties\": {\n        \"dtype\": \"object\",\n        \"num_unique_values\": 10000,\n        \"samples\": [\n          \"2020-02-16 04:26:45.039458\",\n          \"2020-01-15 18:56:55.802861\"\n        ],\n        \"semantic_type\": \"\",\n        \"description\": \"\"\n      }\n    },\n    {\n      \"column\": \"first_reach\",\n      \"properties\": {\n        \"dtype\": \"object\",\n        \"num_unique_values\": 9418,\n        \"samples\": [\n          \"2020-02-21 02:59:16.274018\",\n          \"2020-01-28 21:54:32.892141\"\n        ],\n        \"semantic_type\": \"\",\n        \"description\": \"\"\n      }\n    },\n    {\n      \"column\": \"operator_group_type\",\n      \"properties\": {\n        \"dtype\": \"category\",\n        \"num_unique_values\": 3,\n        \"samples\": [\n          \"a170e8b5b0085420fa52f9f9e1d546f9\",\n          \"e908f62885515872936a2bf07e5960a0\"\n        ],\n        \"semantic_type\": \"\",\n        \"description\": \"\"\n      }\n    },\n    {\n      \"column\": \"operator_group_name\",\n      \"properties\": {\n        \"dtype\": \"category\",\n        \"num_unique_values\": 24,\n        \"samples\": [\n          \"7048270b6e5da5858703cd2ef2998649\",\n          \"798773b75454657007fb8b39efbc312a\"\n        ],\n        \"semantic_type\": \"\",\n        \"description\": \"\"\n      }\n    },\n    {\n      \"column\": \"trial_appointment_datetime\",\n      \"properties\": {\n        \"dtype\": \"object\",\n        \"num_unique_values\": 10000,\n        \"samples\": [\n          \"2020-02-16 20:47:27.851977\",\n          \"2020-01-16 05:31:58.979633\"\n        ],\n        \"semantic_type\": \"\",\n        \"description\": \"\"\n      }\n    },\n    {\n      \"column\": \"appointment_added_by_id\",\n      \"properties\": {\n        \"dtype\": \"number\",\n        \"std\": 2850973,\n        \"min\": -2,\n        \"max\": 11295861,\n        \"num_unique_values\": 1101,\n        \"samples\": [\n          3703384,\n          11283060\n        ],\n        \"semantic_type\": \"\",\n        \"description\": \"\"\n      }\n    },\n    {\n      \"column\": \"is_paid\",\n      \"properties\": {\n        \"dtype\": \"number\",\n        \"std\": 0,\n        \"min\": 0,\n        \"max\": 1,\n        \"num_unique_values\": 2,\n        \"samples\": [\n          1,\n          0\n        ],\n        \"semantic_type\": \"\",\n        \"description\": \"\"\n      }\n    }\n  ]\n}"
            }
          },
          "metadata": {},
          "execution_count": 4
        }
      ]
    },
    {
      "cell_type": "code",
      "source": [
        "df.shape"
      ],
      "metadata": {
        "colab": {
          "base_uri": "https://localhost:8080/"
        },
        "id": "E87hmYhJg2RD",
        "outputId": "90bd600a-c6cd-46e3-8161-96885f3c8ab0"
      },
      "execution_count": 5,
      "outputs": [
        {
          "output_type": "execute_result",
          "data": {
            "text/plain": [
              "(10000, 11)"
            ]
          },
          "metadata": {},
          "execution_count": 5
        }
      ]
    },
    {
      "cell_type": "code",
      "source": [
        "df.describe()"
      ],
      "metadata": {
        "colab": {
          "base_uri": "https://localhost:8080/",
          "height": 300
        },
        "id": "kcH8KqiLg2YE",
        "outputId": "64efcc4e-f396-4b59-a547-6d2bd8033acb"
      },
      "execution_count": 6,
      "outputs": [
        {
          "output_type": "execute_result",
          "data": {
            "text/plain": [
              "           order_id       gender  appointment_added_by_id       is_paid\n",
              "count  1.000000e+04  5084.000000             1.000000e+04  10000.000000\n",
              "mean   1.076241e+07     0.593627             5.180934e+06      0.501800\n",
              "std    1.270724e+06     0.491204             2.850973e+06      0.500022\n",
              "min    3.896499e+06     0.000000            -2.000000e+00      0.000000\n",
              "25%    1.034630e+07     0.000000             3.969171e+06      0.000000\n",
              "50%    1.103726e+07     1.000000             5.550269e+06      1.000000\n",
              "75%    1.145767e+07     1.000000             6.453798e+06      1.000000\n",
              "max    1.196107e+07     1.000000             1.129586e+07      1.000000"
            ],
            "text/html": [
              "\n",
              "  <div id=\"df-63a2c356-806b-4dd9-aaac-bc66311ab5db\" class=\"colab-df-container\">\n",
              "    <div>\n",
              "<style scoped>\n",
              "    .dataframe tbody tr th:only-of-type {\n",
              "        vertical-align: middle;\n",
              "    }\n",
              "\n",
              "    .dataframe tbody tr th {\n",
              "        vertical-align: top;\n",
              "    }\n",
              "\n",
              "    .dataframe thead th {\n",
              "        text-align: right;\n",
              "    }\n",
              "</style>\n",
              "<table border=\"1\" class=\"dataframe\">\n",
              "  <thead>\n",
              "    <tr style=\"text-align: right;\">\n",
              "      <th></th>\n",
              "      <th>order_id</th>\n",
              "      <th>gender</th>\n",
              "      <th>appointment_added_by_id</th>\n",
              "      <th>is_paid</th>\n",
              "    </tr>\n",
              "  </thead>\n",
              "  <tbody>\n",
              "    <tr>\n",
              "      <th>count</th>\n",
              "      <td>1.000000e+04</td>\n",
              "      <td>5084.000000</td>\n",
              "      <td>1.000000e+04</td>\n",
              "      <td>10000.000000</td>\n",
              "    </tr>\n",
              "    <tr>\n",
              "      <th>mean</th>\n",
              "      <td>1.076241e+07</td>\n",
              "      <td>0.593627</td>\n",
              "      <td>5.180934e+06</td>\n",
              "      <td>0.501800</td>\n",
              "    </tr>\n",
              "    <tr>\n",
              "      <th>std</th>\n",
              "      <td>1.270724e+06</td>\n",
              "      <td>0.491204</td>\n",
              "      <td>2.850973e+06</td>\n",
              "      <td>0.500022</td>\n",
              "    </tr>\n",
              "    <tr>\n",
              "      <th>min</th>\n",
              "      <td>3.896499e+06</td>\n",
              "      <td>0.000000</td>\n",
              "      <td>-2.000000e+00</td>\n",
              "      <td>0.000000</td>\n",
              "    </tr>\n",
              "    <tr>\n",
              "      <th>25%</th>\n",
              "      <td>1.034630e+07</td>\n",
              "      <td>0.000000</td>\n",
              "      <td>3.969171e+06</td>\n",
              "      <td>0.000000</td>\n",
              "    </tr>\n",
              "    <tr>\n",
              "      <th>50%</th>\n",
              "      <td>1.103726e+07</td>\n",
              "      <td>1.000000</td>\n",
              "      <td>5.550269e+06</td>\n",
              "      <td>1.000000</td>\n",
              "    </tr>\n",
              "    <tr>\n",
              "      <th>75%</th>\n",
              "      <td>1.145767e+07</td>\n",
              "      <td>1.000000</td>\n",
              "      <td>6.453798e+06</td>\n",
              "      <td>1.000000</td>\n",
              "    </tr>\n",
              "    <tr>\n",
              "      <th>max</th>\n",
              "      <td>1.196107e+07</td>\n",
              "      <td>1.000000</td>\n",
              "      <td>1.129586e+07</td>\n",
              "      <td>1.000000</td>\n",
              "    </tr>\n",
              "  </tbody>\n",
              "</table>\n",
              "</div>\n",
              "    <div class=\"colab-df-buttons\">\n",
              "\n",
              "  <div class=\"colab-df-container\">\n",
              "    <button class=\"colab-df-convert\" onclick=\"convertToInteractive('df-63a2c356-806b-4dd9-aaac-bc66311ab5db')\"\n",
              "            title=\"Convert this dataframe to an interactive table.\"\n",
              "            style=\"display:none;\">\n",
              "\n",
              "  <svg xmlns=\"http://www.w3.org/2000/svg\" height=\"24px\" viewBox=\"0 -960 960 960\">\n",
              "    <path d=\"M120-120v-720h720v720H120Zm60-500h600v-160H180v160Zm220 220h160v-160H400v160Zm0 220h160v-160H400v160ZM180-400h160v-160H180v160Zm440 0h160v-160H620v160ZM180-180h160v-160H180v160Zm440 0h160v-160H620v160Z\"/>\n",
              "  </svg>\n",
              "    </button>\n",
              "\n",
              "  <style>\n",
              "    .colab-df-container {\n",
              "      display:flex;\n",
              "      gap: 12px;\n",
              "    }\n",
              "\n",
              "    .colab-df-convert {\n",
              "      background-color: #E8F0FE;\n",
              "      border: none;\n",
              "      border-radius: 50%;\n",
              "      cursor: pointer;\n",
              "      display: none;\n",
              "      fill: #1967D2;\n",
              "      height: 32px;\n",
              "      padding: 0 0 0 0;\n",
              "      width: 32px;\n",
              "    }\n",
              "\n",
              "    .colab-df-convert:hover {\n",
              "      background-color: #E2EBFA;\n",
              "      box-shadow: 0px 1px 2px rgba(60, 64, 67, 0.3), 0px 1px 3px 1px rgba(60, 64, 67, 0.15);\n",
              "      fill: #174EA6;\n",
              "    }\n",
              "\n",
              "    .colab-df-buttons div {\n",
              "      margin-bottom: 4px;\n",
              "    }\n",
              "\n",
              "    [theme=dark] .colab-df-convert {\n",
              "      background-color: #3B4455;\n",
              "      fill: #D2E3FC;\n",
              "    }\n",
              "\n",
              "    [theme=dark] .colab-df-convert:hover {\n",
              "      background-color: #434B5C;\n",
              "      box-shadow: 0px 1px 3px 1px rgba(0, 0, 0, 0.15);\n",
              "      filter: drop-shadow(0px 1px 2px rgba(0, 0, 0, 0.3));\n",
              "      fill: #FFFFFF;\n",
              "    }\n",
              "  </style>\n",
              "\n",
              "    <script>\n",
              "      const buttonEl =\n",
              "        document.querySelector('#df-63a2c356-806b-4dd9-aaac-bc66311ab5db button.colab-df-convert');\n",
              "      buttonEl.style.display =\n",
              "        google.colab.kernel.accessAllowed ? 'block' : 'none';\n",
              "\n",
              "      async function convertToInteractive(key) {\n",
              "        const element = document.querySelector('#df-63a2c356-806b-4dd9-aaac-bc66311ab5db');\n",
              "        const dataTable =\n",
              "          await google.colab.kernel.invokeFunction('convertToInteractive',\n",
              "                                                    [key], {});\n",
              "        if (!dataTable) return;\n",
              "\n",
              "        const docLinkHtml = 'Like what you see? Visit the ' +\n",
              "          '<a target=\"_blank\" href=https://colab.research.google.com/notebooks/data_table.ipynb>data table notebook</a>'\n",
              "          + ' to learn more about interactive tables.';\n",
              "        element.innerHTML = '';\n",
              "        dataTable['output_type'] = 'display_data';\n",
              "        await google.colab.output.renderOutput(dataTable, element);\n",
              "        const docLink = document.createElement('div');\n",
              "        docLink.innerHTML = docLinkHtml;\n",
              "        element.appendChild(docLink);\n",
              "      }\n",
              "    </script>\n",
              "  </div>\n",
              "\n",
              "\n",
              "<div id=\"df-1d0d37d2-2137-4b8e-bac5-aca3e9047251\">\n",
              "  <button class=\"colab-df-quickchart\" onclick=\"quickchart('df-1d0d37d2-2137-4b8e-bac5-aca3e9047251')\"\n",
              "            title=\"Suggest charts\"\n",
              "            style=\"display:none;\">\n",
              "\n",
              "<svg xmlns=\"http://www.w3.org/2000/svg\" height=\"24px\"viewBox=\"0 0 24 24\"\n",
              "     width=\"24px\">\n",
              "    <g>\n",
              "        <path d=\"M19 3H5c-1.1 0-2 .9-2 2v14c0 1.1.9 2 2 2h14c1.1 0 2-.9 2-2V5c0-1.1-.9-2-2-2zM9 17H7v-7h2v7zm4 0h-2V7h2v10zm4 0h-2v-4h2v4z\"/>\n",
              "    </g>\n",
              "</svg>\n",
              "  </button>\n",
              "\n",
              "<style>\n",
              "  .colab-df-quickchart {\n",
              "      --bg-color: #E8F0FE;\n",
              "      --fill-color: #1967D2;\n",
              "      --hover-bg-color: #E2EBFA;\n",
              "      --hover-fill-color: #174EA6;\n",
              "      --disabled-fill-color: #AAA;\n",
              "      --disabled-bg-color: #DDD;\n",
              "  }\n",
              "\n",
              "  [theme=dark] .colab-df-quickchart {\n",
              "      --bg-color: #3B4455;\n",
              "      --fill-color: #D2E3FC;\n",
              "      --hover-bg-color: #434B5C;\n",
              "      --hover-fill-color: #FFFFFF;\n",
              "      --disabled-bg-color: #3B4455;\n",
              "      --disabled-fill-color: #666;\n",
              "  }\n",
              "\n",
              "  .colab-df-quickchart {\n",
              "    background-color: var(--bg-color);\n",
              "    border: none;\n",
              "    border-radius: 50%;\n",
              "    cursor: pointer;\n",
              "    display: none;\n",
              "    fill: var(--fill-color);\n",
              "    height: 32px;\n",
              "    padding: 0;\n",
              "    width: 32px;\n",
              "  }\n",
              "\n",
              "  .colab-df-quickchart:hover {\n",
              "    background-color: var(--hover-bg-color);\n",
              "    box-shadow: 0 1px 2px rgba(60, 64, 67, 0.3), 0 1px 3px 1px rgba(60, 64, 67, 0.15);\n",
              "    fill: var(--button-hover-fill-color);\n",
              "  }\n",
              "\n",
              "  .colab-df-quickchart-complete:disabled,\n",
              "  .colab-df-quickchart-complete:disabled:hover {\n",
              "    background-color: var(--disabled-bg-color);\n",
              "    fill: var(--disabled-fill-color);\n",
              "    box-shadow: none;\n",
              "  }\n",
              "\n",
              "  .colab-df-spinner {\n",
              "    border: 2px solid var(--fill-color);\n",
              "    border-color: transparent;\n",
              "    border-bottom-color: var(--fill-color);\n",
              "    animation:\n",
              "      spin 1s steps(1) infinite;\n",
              "  }\n",
              "\n",
              "  @keyframes spin {\n",
              "    0% {\n",
              "      border-color: transparent;\n",
              "      border-bottom-color: var(--fill-color);\n",
              "      border-left-color: var(--fill-color);\n",
              "    }\n",
              "    20% {\n",
              "      border-color: transparent;\n",
              "      border-left-color: var(--fill-color);\n",
              "      border-top-color: var(--fill-color);\n",
              "    }\n",
              "    30% {\n",
              "      border-color: transparent;\n",
              "      border-left-color: var(--fill-color);\n",
              "      border-top-color: var(--fill-color);\n",
              "      border-right-color: var(--fill-color);\n",
              "    }\n",
              "    40% {\n",
              "      border-color: transparent;\n",
              "      border-right-color: var(--fill-color);\n",
              "      border-top-color: var(--fill-color);\n",
              "    }\n",
              "    60% {\n",
              "      border-color: transparent;\n",
              "      border-right-color: var(--fill-color);\n",
              "    }\n",
              "    80% {\n",
              "      border-color: transparent;\n",
              "      border-right-color: var(--fill-color);\n",
              "      border-bottom-color: var(--fill-color);\n",
              "    }\n",
              "    90% {\n",
              "      border-color: transparent;\n",
              "      border-bottom-color: var(--fill-color);\n",
              "    }\n",
              "  }\n",
              "</style>\n",
              "\n",
              "  <script>\n",
              "    async function quickchart(key) {\n",
              "      const quickchartButtonEl =\n",
              "        document.querySelector('#' + key + ' button');\n",
              "      quickchartButtonEl.disabled = true;  // To prevent multiple clicks.\n",
              "      quickchartButtonEl.classList.add('colab-df-spinner');\n",
              "      try {\n",
              "        const charts = await google.colab.kernel.invokeFunction(\n",
              "            'suggestCharts', [key], {});\n",
              "      } catch (error) {\n",
              "        console.error('Error during call to suggestCharts:', error);\n",
              "      }\n",
              "      quickchartButtonEl.classList.remove('colab-df-spinner');\n",
              "      quickchartButtonEl.classList.add('colab-df-quickchart-complete');\n",
              "    }\n",
              "    (() => {\n",
              "      let quickchartButtonEl =\n",
              "        document.querySelector('#df-1d0d37d2-2137-4b8e-bac5-aca3e9047251 button');\n",
              "      quickchartButtonEl.style.display =\n",
              "        google.colab.kernel.accessAllowed ? 'block' : 'none';\n",
              "    })();\n",
              "  </script>\n",
              "</div>\n",
              "\n",
              "    </div>\n",
              "  </div>\n"
            ],
            "application/vnd.google.colaboratory.intrinsic+json": {
              "type": "dataframe",
              "summary": "{\n  \"name\": \"df\",\n  \"rows\": 8,\n  \"fields\": [\n    {\n      \"column\": \"order_id\",\n      \"properties\": {\n        \"dtype\": \"number\",\n        \"std\": 4994878.536721354,\n        \"min\": 10000.0,\n        \"max\": 11961069.0,\n        \"num_unique_values\": 8,\n        \"samples\": [\n          10762414.4465,\n          11037263.5,\n          10000.0\n        ],\n        \"semantic_type\": \"\",\n        \"description\": \"\"\n      }\n    },\n    {\n      \"column\": \"gender\",\n      \"properties\": {\n        \"dtype\": \"number\",\n        \"std\": 1797.2591707366782,\n        \"min\": 0.0,\n        \"max\": 5084.0,\n        \"num_unique_values\": 5,\n        \"samples\": [\n          0.5936270653029111,\n          1.0,\n          0.491204063112561\n        ],\n        \"semantic_type\": \"\",\n        \"description\": \"\"\n      }\n    },\n    {\n      \"column\": \"appointment_added_by_id\",\n      \"properties\": {\n        \"dtype\": \"number\",\n        \"std\": 3682383.481067408,\n        \"min\": -2.0,\n        \"max\": 11295861.0,\n        \"num_unique_values\": 8,\n        \"samples\": [\n          5180933.9092,\n          5550269.0,\n          10000.0\n        ],\n        \"semantic_type\": \"\",\n        \"description\": \"\"\n      }\n    },\n    {\n      \"column\": \"is_paid\",\n      \"properties\": {\n        \"dtype\": \"number\",\n        \"std\": 3535.3318079394426,\n        \"min\": 0.0,\n        \"max\": 10000.0,\n        \"num_unique_values\": 5,\n        \"samples\": [\n          0.5018,\n          1.0,\n          0.5000217617026377\n        ],\n        \"semantic_type\": \"\",\n        \"description\": \"\"\n      }\n    }\n  ]\n}"
            }
          },
          "metadata": {},
          "execution_count": 6
        }
      ]
    },
    {
      "cell_type": "code",
      "source": [
        "df.info()"
      ],
      "metadata": {
        "colab": {
          "base_uri": "https://localhost:8080/"
        },
        "id": "QEsDnD6ckdgc",
        "outputId": "f665efb1-ed76-423f-92a1-8796f922c457"
      },
      "execution_count": 7,
      "outputs": [
        {
          "output_type": "stream",
          "name": "stdout",
          "text": [
            "<class 'pandas.core.frame.DataFrame'>\n",
            "RangeIndex: 10000 entries, 0 to 9999\n",
            "Data columns (total 11 columns):\n",
            " #   Column                      Non-Null Count  Dtype  \n",
            "---  ------                      --------------  -----  \n",
            " 0   order_id                    10000 non-null  int64  \n",
            " 1   source                      10000 non-null  object \n",
            " 2   application_datetime        10000 non-null  object \n",
            " 3   gender                      5084 non-null   float64\n",
            " 4   first_call                  10000 non-null  object \n",
            " 5   first_reach                 9418 non-null   object \n",
            " 6   operator_group_type         10000 non-null  object \n",
            " 7   operator_group_name         10000 non-null  object \n",
            " 8   trial_appointment_datetime  10000 non-null  object \n",
            " 9   appointment_added_by_id     10000 non-null  int64  \n",
            " 10  is_paid                     10000 non-null  int64  \n",
            "dtypes: float64(1), int64(3), object(7)\n",
            "memory usage: 859.5+ KB\n"
          ]
        }
      ]
    },
    {
      "cell_type": "code",
      "source": [
        "# Конверсия из заявки в оплату\n",
        "conversion_rate = df.is_paid.mean()\n",
        "print(f\"Конверсия из заявки в оплату: {conversion_rate:.2%}\")"
      ],
      "metadata": {
        "colab": {
          "base_uri": "https://localhost:8080/"
        },
        "id": "cTB9-d4XnUUK",
        "outputId": "25b0ec17-7658-4f93-a76c-402103b085b6"
      },
      "execution_count": 8,
      "outputs": [
        {
          "output_type": "stream",
          "name": "stdout",
          "text": [
            "Конверсия из заявки в оплату: 50.18%\n"
          ]
        }
      ]
    },
    {
      "cell_type": "code",
      "source": [
        "# Анализ зависимости конверсии от источника заявки\n",
        "source_conversion = df.groupby('source')['is_paid'].mean()\n",
        "print(source_conversion)"
      ],
      "metadata": {
        "colab": {
          "base_uri": "https://localhost:8080/"
        },
        "id": "c99l12zonkpC",
        "outputId": "47ccd10b-29fe-4e92-d2a3-11b4530bb875"
      },
      "execution_count": 9,
      "outputs": [
        {
          "output_type": "stream",
          "name": "stdout",
          "text": [
            "source\n",
            "05a484a48745449b5ac089f0aa6192f4    1.000000\n",
            "0cbc9029b6168ca138da344f4a06c2f7    0.476190\n",
            "2916b0834eaf3921234cdd5f2a3d0a3a    0.476190\n",
            "2c3991193c1da7c9e7ea14adbaf4ea50    0.528302\n",
            "2e27e68a4da0111ddf644ab75a93ac12    0.400000\n",
            "2f57c79e2eeea3320dfdabe80ceecf64    0.416667\n",
            "302b25d9f5e394b656b20a70615a52af    0.625000\n",
            "3f777e3bd400abe911a00a23a7891c52    0.200000\n",
            "4502821cb71c7f2195cd4e542273fe38    0.495012\n",
            "4cedf3fbf9f7dc88b37bc42c66908c06    0.488550\n",
            "583eb722b77d6c7791d1811f6a42450c    0.625000\n",
            "5fea691deed5cf3730f923ad806435ba    0.500000\n",
            "6d3cdcb17091b57c845310fedeb00a92    1.000000\n",
            "6d58a8f62efa7d79de4448ad1e7329c3    0.500000\n",
            "86b0d8c2e04798d4b539e1e3f04e5a45    0.428571\n",
            "8fe139ceee6bc394d46b1e960606a3d1    0.538462\n",
            "91ce888e6774bd668a675b5640499103    0.501010\n",
            "a636bcf354a837fb5c25c3d5b940170b    0.522936\n",
            "a77d267d7c75b97b497e18d447f8b67e    0.500000\n",
            "ac237ddf527733d443d6e3440d49a970    0.489796\n",
            "b0521b815783c8a1c07cab1f61a43b27    0.250000\n",
            "b26ad2c2638544ba42dd2c16c77dd91a    0.440000\n",
            "bdcf5fc18e4f01990300ed0d0a306428    0.400000\n",
            "cd48e195ee1a590504a0515b4f9b41e8    0.560000\n",
            "e7d707a26e7f7b6ff52c489c60e429b1    0.566038\n",
            "f12c0522bfa2143e29832a5f3bf7c0b5    0.515152\n",
            "f1a1996543f7c52fb277501d7f8abed9    0.629630\n",
            "f5bffc1a757263e7b8b397484d2737d7    0.500000\n",
            "f9314fcca336261ee5ee4657b4fdcdd6    0.000000\n",
            "Name: is_paid, dtype: float64\n"
          ]
        }
      ]
    },
    {
      "cell_type": "code",
      "source": [
        "# Анализ зависимости конверсии от пола\n",
        "gender_conversion = df.groupby('gender')['is_paid'].mean()\n",
        "print(gender_conversion)"
      ],
      "metadata": {
        "colab": {
          "base_uri": "https://localhost:8080/"
        },
        "id": "c9a_mPlXqjJo",
        "outputId": "413b525b-23db-4325-db55-a3e3199a44c4"
      },
      "execution_count": 10,
      "outputs": [
        {
          "output_type": "stream",
          "name": "stdout",
          "text": [
            "gender\n",
            "0.0    0.497096\n",
            "1.0    0.511928\n",
            "Name: is_paid, dtype: float64\n"
          ]
        }
      ]
    },
    {
      "cell_type": "code",
      "source": [
        "# Гипотеза 1: Источники заявок с более высокой конверсией\n",
        "print(source_conversion.sort_values(ascending=False))"
      ],
      "metadata": {
        "colab": {
          "base_uri": "https://localhost:8080/"
        },
        "id": "eObIp-cWqjpq",
        "outputId": "932e0c62-e391-484a-96e4-6afecb335340"
      },
      "execution_count": 11,
      "outputs": [
        {
          "output_type": "stream",
          "name": "stdout",
          "text": [
            "source\n",
            "05a484a48745449b5ac089f0aa6192f4    1.000000\n",
            "6d3cdcb17091b57c845310fedeb00a92    1.000000\n",
            "f1a1996543f7c52fb277501d7f8abed9    0.629630\n",
            "302b25d9f5e394b656b20a70615a52af    0.625000\n",
            "583eb722b77d6c7791d1811f6a42450c    0.625000\n",
            "e7d707a26e7f7b6ff52c489c60e429b1    0.566038\n",
            "cd48e195ee1a590504a0515b4f9b41e8    0.560000\n",
            "8fe139ceee6bc394d46b1e960606a3d1    0.538462\n",
            "2c3991193c1da7c9e7ea14adbaf4ea50    0.528302\n",
            "a636bcf354a837fb5c25c3d5b940170b    0.522936\n",
            "f12c0522bfa2143e29832a5f3bf7c0b5    0.515152\n",
            "91ce888e6774bd668a675b5640499103    0.501010\n",
            "a77d267d7c75b97b497e18d447f8b67e    0.500000\n",
            "5fea691deed5cf3730f923ad806435ba    0.500000\n",
            "6d58a8f62efa7d79de4448ad1e7329c3    0.500000\n",
            "f5bffc1a757263e7b8b397484d2737d7    0.500000\n",
            "4502821cb71c7f2195cd4e542273fe38    0.495012\n",
            "ac237ddf527733d443d6e3440d49a970    0.489796\n",
            "4cedf3fbf9f7dc88b37bc42c66908c06    0.488550\n",
            "0cbc9029b6168ca138da344f4a06c2f7    0.476190\n",
            "2916b0834eaf3921234cdd5f2a3d0a3a    0.476190\n",
            "b26ad2c2638544ba42dd2c16c77dd91a    0.440000\n",
            "86b0d8c2e04798d4b539e1e3f04e5a45    0.428571\n",
            "2f57c79e2eeea3320dfdabe80ceecf64    0.416667\n",
            "bdcf5fc18e4f01990300ed0d0a306428    0.400000\n",
            "2e27e68a4da0111ddf644ab75a93ac12    0.400000\n",
            "b0521b815783c8a1c07cab1f61a43b27    0.250000\n",
            "3f777e3bd400abe911a00a23a7891c52    0.200000\n",
            "f9314fcca336261ee5ee4657b4fdcdd6    0.000000\n",
            "Name: is_paid, dtype: float64\n"
          ]
        }
      ]
    },
    {
      "cell_type": "code",
      "source": [
        "#Рекомендация 1: Увеличить бюджет на рекламу в источниках заявок с высокой конверсией, а неэффективные пересмотреть или оптимизировать."
      ],
      "metadata": {
        "id": "QymPYJJrqjvk"
      },
      "execution_count": 12,
      "outputs": []
    },
    {
      "cell_type": "code",
      "source": [
        "# Гипотеза 2: Эффективность групп операторов и отдельно каждого оператора.\n",
        "operator_group_conversion = df.groupby('operator_group_name')['is_paid'].mean()\n",
        "print(operator_group_conversion.sort_values(ascending=False))"
      ],
      "metadata": {
        "colab": {
          "base_uri": "https://localhost:8080/"
        },
        "id": "HRIBbTDFv1Qo",
        "outputId": "02c90582-1f44-4760-8512-8d464bae7659"
      },
      "execution_count": 13,
      "outputs": [
        {
          "output_type": "stream",
          "name": "stdout",
          "text": [
            "operator_group_name\n",
            "7048270b6e5da5858703cd2ef2998649    1.000000\n",
            "edb56bd0223fe29944d00db73880c963    1.000000\n",
            "8fb9f6ee463b7588838293212f19a7ce    1.000000\n",
            "583602883825b5ec01a226e77d08d41b    1.000000\n",
            "d6805ace660f687196d562c6dd4ecad0    1.000000\n",
            "6d208704ad0de706bd2da353ba4e4cb8    0.800000\n",
            "4066be2336930bd56d04cb32065ba808    0.750000\n",
            "3b574fbbeb9251641816c6c5e8140e62    0.612903\n",
            "41fcb0f55a2687355fff238d3bdf319e    0.564103\n",
            "d4f622b69e50e86a65cd6fae4bcf575f    0.505928\n",
            "71f28acc49d59768329c29ca33acb36c    0.500000\n",
            "63af698d7d79dadbc44ac71a068acea0    0.500000\n",
            "c2e1985524a741220fbf9448ecc94d0e    0.500000\n",
            "50b18bd0f19a885de1c8de8c46261398    0.500000\n",
            "d6a7e0ab0512ccc44e702ea978ebc5df    0.500000\n",
            "bec94779f5f3577acf456dda29461f53    0.500000\n",
            "a0b8ef7535f9201f77c5a97d2ba4db2b    0.491892\n",
            "73231aa8aa7a12c078c764b0fd686b34    0.200000\n",
            "01cf9adec108aa0cd5dc4e39c2af1e42    0.000000\n",
            "798773b75454657007fb8b39efbc312a    0.000000\n",
            "27874c9802470669925ec02eb0c2fd64    0.000000\n",
            "43c831a1511b89eeeb1c9086c4e90f35    0.000000\n",
            "2d651a7c0cd492ac0ea68032f936f610    0.000000\n",
            "ff2fd2f0bf05f9ebdfbff51ccbac77c9    0.000000\n",
            "Name: is_paid, dtype: float64\n"
          ]
        }
      ]
    },
    {
      "cell_type": "code",
      "source": [
        "operator_conversion = df.groupby('appointment_added_by_id')['is_paid'].mean()\n",
        "print(operator_conversion.sort_values(ascending=False))"
      ],
      "metadata": {
        "colab": {
          "base_uri": "https://localhost:8080/"
        },
        "id": "N5Z6fyVjv17p",
        "outputId": "9f16dbb8-8072-4071-fdba-74ad06c4709d"
      },
      "execution_count": 14,
      "outputs": [
        {
          "output_type": "stream",
          "name": "stdout",
          "text": [
            "appointment_added_by_id\n",
            "10519166    1.0\n",
            "3807405     1.0\n",
            "4380326     1.0\n",
            "10710643    1.0\n",
            "10710183    1.0\n",
            "           ... \n",
            "10509163    0.0\n",
            "10509279    0.0\n",
            "5545234     0.0\n",
            "10514663    0.0\n",
            "11295861    0.0\n",
            "Name: is_paid, Length: 1101, dtype: float64\n"
          ]
        }
      ]
    },
    {
      "cell_type": "code",
      "source": [
        "operator_conversion.describe()"
      ],
      "metadata": {
        "colab": {
          "base_uri": "https://localhost:8080/",
          "height": 335
        },
        "id": "nIdMUW2mi8wn",
        "outputId": "76b3c2e5-4553-4ff6-820d-8e9b979d5239"
      },
      "execution_count": 15,
      "outputs": [
        {
          "output_type": "execute_result",
          "data": {
            "text/plain": [
              "count    1101.000000\n",
              "mean        0.505020\n",
              "std         0.337264\n",
              "min         0.000000\n",
              "25%         0.285714\n",
              "50%         0.500000\n",
              "75%         0.727273\n",
              "max         1.000000\n",
              "Name: is_paid, dtype: float64"
            ],
            "text/html": [
              "<div>\n",
              "<style scoped>\n",
              "    .dataframe tbody tr th:only-of-type {\n",
              "        vertical-align: middle;\n",
              "    }\n",
              "\n",
              "    .dataframe tbody tr th {\n",
              "        vertical-align: top;\n",
              "    }\n",
              "\n",
              "    .dataframe thead th {\n",
              "        text-align: right;\n",
              "    }\n",
              "</style>\n",
              "<table border=\"1\" class=\"dataframe\">\n",
              "  <thead>\n",
              "    <tr style=\"text-align: right;\">\n",
              "      <th></th>\n",
              "      <th>is_paid</th>\n",
              "    </tr>\n",
              "  </thead>\n",
              "  <tbody>\n",
              "    <tr>\n",
              "      <th>count</th>\n",
              "      <td>1101.000000</td>\n",
              "    </tr>\n",
              "    <tr>\n",
              "      <th>mean</th>\n",
              "      <td>0.505020</td>\n",
              "    </tr>\n",
              "    <tr>\n",
              "      <th>std</th>\n",
              "      <td>0.337264</td>\n",
              "    </tr>\n",
              "    <tr>\n",
              "      <th>min</th>\n",
              "      <td>0.000000</td>\n",
              "    </tr>\n",
              "    <tr>\n",
              "      <th>25%</th>\n",
              "      <td>0.285714</td>\n",
              "    </tr>\n",
              "    <tr>\n",
              "      <th>50%</th>\n",
              "      <td>0.500000</td>\n",
              "    </tr>\n",
              "    <tr>\n",
              "      <th>75%</th>\n",
              "      <td>0.727273</td>\n",
              "    </tr>\n",
              "    <tr>\n",
              "      <th>max</th>\n",
              "      <td>1.000000</td>\n",
              "    </tr>\n",
              "  </tbody>\n",
              "</table>\n",
              "</div><br><label><b>dtype:</b> float64</label>"
            ]
          },
          "metadata": {},
          "execution_count": 15
        }
      ]
    },
    {
      "cell_type": "code",
      "source": [
        "operator_conversion = df.groupby('appointment_added_by_id')['is_paid'].mean().reset_index()\n",
        "operator_conversion.columns = ['appointment_added_by_id', 'conversion_rate']\n",
        "def get_conversion_group(rate):\n",
        "    if rate == 0:\n",
        "        return 'Нулевая конверсия'\n",
        "    elif 0 < rate <= 0.2:\n",
        "        return 'Низкая конверсия (0-20%)'\n",
        "    elif 0.2 < rate <= 0.5:\n",
        "        return 'Средняя конверсия (20-50%)'\n",
        "    else:\n",
        "        return 'Высокая конверсия (50-100%)'\n",
        "operator_conversion['conversion_group'] = operator_conversion['conversion_rate'].apply(get_conversion_group)\n",
        "print(operator_conversion['conversion_group'].value_counts())"
      ],
      "metadata": {
        "colab": {
          "base_uri": "https://localhost:8080/"
        },
        "id": "AGinVJW_uKXk",
        "outputId": "1af62920-735f-48e5-b0e4-917475113c29"
      },
      "execution_count": 16,
      "outputs": [
        {
          "output_type": "stream",
          "name": "stdout",
          "text": [
            "conversion_group\n",
            "Высокая конверсия (50-100%)    487\n",
            "Средняя конверсия (20-50%)     379\n",
            "Нулевая конверсия              219\n",
            "Низкая конверсия (0-20%)        16\n",
            "Name: count, dtype: int64\n"
          ]
        }
      ]
    },
    {
      "cell_type": "code",
      "source": [
        "# Рекомендация 2: Выявить операторов с высокой конверсией и изучить их техники общения.\n",
        "# Провести обучение для остальных операторов, чтобы они могли использовать лучшие практики."
      ],
      "metadata": {
        "id": "Xa1A8h2uQGrd"
      },
      "execution_count": 17,
      "outputs": []
    },
    {
      "cell_type": "code",
      "source": [
        "# Гипотеза 3: Длительность между заявкой и первым звонком\n",
        "  # 1. Фильтруем строки, где время первого звонка раньше, чем время подачи заявки\n",
        "df['first_call'] = pd.to_datetime(df['first_call'])\n",
        "df['application_datetime'] = pd.to_datetime(df['application_datetime'])\n",
        "df_2 = df[df['first_call'] >= df['application_datetime']]"
      ],
      "metadata": {
        "id": "56KLmP2Re7_T"
      },
      "execution_count": 21,
      "outputs": []
    },
    {
      "cell_type": "code",
      "source": [
        "  # 2. Проверяем статистику по времени отклика\n",
        "# Преобразуем столбцы в datetime\n",
        "df_2['time_to_first_call'] = (df_2['first_call'] - df_2['application_datetime']).dt.total_seconds() / 3600  # в часах\n",
        "print(df_2['time_to_first_call'].describe())  # Проверяем минимальные, максимальные значения"
      ],
      "metadata": {
        "colab": {
          "base_uri": "https://localhost:8080/"
        },
        "id": "NCfMi_Hbe8Ct",
        "outputId": "153ac559-7fcf-4c6d-c6eb-fde70ca401d2"
      },
      "execution_count": 22,
      "outputs": [
        {
          "output_type": "stream",
          "name": "stdout",
          "text": [
            "count     9987.000000\n",
            "mean       183.762417\n",
            "std        835.550484\n",
            "min          0.003839\n",
            "25%          2.421141\n",
            "50%          5.444395\n",
            "75%         29.552957\n",
            "max      10225.214981\n",
            "Name: time_to_first_call, dtype: float64\n"
          ]
        },
        {
          "output_type": "stream",
          "name": "stderr",
          "text": [
            "<ipython-input-22-cc65458e5b24>:3: SettingWithCopyWarning: \n",
            "A value is trying to be set on a copy of a slice from a DataFrame.\n",
            "Try using .loc[row_indexer,col_indexer] = value instead\n",
            "\n",
            "See the caveats in the documentation: https://pandas.pydata.org/pandas-docs/stable/user_guide/indexing.html#returning-a-view-versus-a-copy\n",
            "  df_2['time_to_first_call'] = (df_2['first_call'] - df_2['application_datetime']).dt.total_seconds() / 3600  # в часах\n"
          ]
        }
      ]
    },
    {
      "cell_type": "code",
      "source": [
        "  # 3. Фильтруем строки, где время отклика больше реалистичного порога, например, 6 дней (144 часа)\n",
        "df_2 = df_2[df_2['time_to_first_call'] <= 144]"
      ],
      "metadata": {
        "id": "mjbWmkP8e8Fr"
      },
      "execution_count": null,
      "outputs": []
    },
    {
      "cell_type": "code",
      "source": [
        "  # 4. Пересчитываем конверсию по группам времени отклика\n",
        "time_to_call_conversion = df_2.groupby(pd.cut(df['time_to_first_call'], bins=5), observed=False)['is_paid'].mean()\n",
        "print(time_to_call_conversion)"
      ],
      "metadata": {
        "colab": {
          "base_uri": "https://localhost:8080/",
          "height": 572
        },
        "id": "K-j8SWtLe8Iv",
        "outputId": "8f29c89c-04b0-450a-8503-4dd0b2ff5bfb"
      },
      "execution_count": null,
      "outputs": [
        {
          "output_type": "error",
          "ename": "KeyError",
          "evalue": "'time_to_first_call'",
          "traceback": [
            "\u001b[0;31m---------------------------------------------------------------------------\u001b[0m",
            "\u001b[0;31mKeyError\u001b[0m                                  Traceback (most recent call last)",
            "\u001b[0;32m/usr/local/lib/python3.11/dist-packages/pandas/core/indexes/base.py\u001b[0m in \u001b[0;36mget_loc\u001b[0;34m(self, key)\u001b[0m\n\u001b[1;32m   3804\u001b[0m         \u001b[0;32mtry\u001b[0m\u001b[0;34m:\u001b[0m\u001b[0;34m\u001b[0m\u001b[0;34m\u001b[0m\u001b[0m\n\u001b[0;32m-> 3805\u001b[0;31m             \u001b[0;32mreturn\u001b[0m \u001b[0mself\u001b[0m\u001b[0;34m.\u001b[0m\u001b[0m_engine\u001b[0m\u001b[0;34m.\u001b[0m\u001b[0mget_loc\u001b[0m\u001b[0;34m(\u001b[0m\u001b[0mcasted_key\u001b[0m\u001b[0;34m)\u001b[0m\u001b[0;34m\u001b[0m\u001b[0;34m\u001b[0m\u001b[0m\n\u001b[0m\u001b[1;32m   3806\u001b[0m         \u001b[0;32mexcept\u001b[0m \u001b[0mKeyError\u001b[0m \u001b[0;32mas\u001b[0m \u001b[0merr\u001b[0m\u001b[0;34m:\u001b[0m\u001b[0;34m\u001b[0m\u001b[0;34m\u001b[0m\u001b[0m\n",
            "\u001b[0;32mindex.pyx\u001b[0m in \u001b[0;36mpandas._libs.index.IndexEngine.get_loc\u001b[0;34m()\u001b[0m\n",
            "\u001b[0;32mindex.pyx\u001b[0m in \u001b[0;36mpandas._libs.index.IndexEngine.get_loc\u001b[0;34m()\u001b[0m\n",
            "\u001b[0;32mpandas/_libs/hashtable_class_helper.pxi\u001b[0m in \u001b[0;36mpandas._libs.hashtable.PyObjectHashTable.get_item\u001b[0;34m()\u001b[0m\n",
            "\u001b[0;32mpandas/_libs/hashtable_class_helper.pxi\u001b[0m in \u001b[0;36mpandas._libs.hashtable.PyObjectHashTable.get_item\u001b[0;34m()\u001b[0m\n",
            "\u001b[0;31mKeyError\u001b[0m: 'time_to_first_call'",
            "\nThe above exception was the direct cause of the following exception:\n",
            "\u001b[0;31mKeyError\u001b[0m                                  Traceback (most recent call last)",
            "\u001b[0;32m<ipython-input-27-40934723cf23>\u001b[0m in \u001b[0;36m<cell line: 0>\u001b[0;34m()\u001b[0m\n\u001b[1;32m      1\u001b[0m \u001b[0;31m# 4. Пересчитываем конверсию по группам времени отклика\u001b[0m\u001b[0;34m\u001b[0m\u001b[0;34m\u001b[0m\u001b[0m\n\u001b[0;32m----> 2\u001b[0;31m \u001b[0mtime_to_call_conversion\u001b[0m \u001b[0;34m=\u001b[0m \u001b[0mdf_2\u001b[0m\u001b[0;34m.\u001b[0m\u001b[0mgroupby\u001b[0m\u001b[0;34m(\u001b[0m\u001b[0mpd\u001b[0m\u001b[0;34m.\u001b[0m\u001b[0mcut\u001b[0m\u001b[0;34m(\u001b[0m\u001b[0mdf\u001b[0m\u001b[0;34m[\u001b[0m\u001b[0;34m'time_to_first_call'\u001b[0m\u001b[0;34m]\u001b[0m\u001b[0;34m,\u001b[0m \u001b[0mbins\u001b[0m\u001b[0;34m=\u001b[0m\u001b[0;36m5\u001b[0m\u001b[0;34m)\u001b[0m\u001b[0;34m,\u001b[0m \u001b[0mobserved\u001b[0m\u001b[0;34m=\u001b[0m\u001b[0;32mFalse\u001b[0m\u001b[0;34m)\u001b[0m\u001b[0;34m[\u001b[0m\u001b[0;34m'is_paid'\u001b[0m\u001b[0;34m]\u001b[0m\u001b[0;34m.\u001b[0m\u001b[0mmean\u001b[0m\u001b[0;34m(\u001b[0m\u001b[0;34m)\u001b[0m\u001b[0;34m\u001b[0m\u001b[0;34m\u001b[0m\u001b[0m\n\u001b[0m\u001b[1;32m      3\u001b[0m \u001b[0mprint\u001b[0m\u001b[0;34m(\u001b[0m\u001b[0mtime_to_call_conversion\u001b[0m\u001b[0;34m)\u001b[0m\u001b[0;34m\u001b[0m\u001b[0;34m\u001b[0m\u001b[0m\n",
            "\u001b[0;32m/usr/local/lib/python3.11/dist-packages/pandas/core/frame.py\u001b[0m in \u001b[0;36m__getitem__\u001b[0;34m(self, key)\u001b[0m\n\u001b[1;32m   4100\u001b[0m             \u001b[0;32mif\u001b[0m \u001b[0mself\u001b[0m\u001b[0;34m.\u001b[0m\u001b[0mcolumns\u001b[0m\u001b[0;34m.\u001b[0m\u001b[0mnlevels\u001b[0m \u001b[0;34m>\u001b[0m \u001b[0;36m1\u001b[0m\u001b[0;34m:\u001b[0m\u001b[0;34m\u001b[0m\u001b[0;34m\u001b[0m\u001b[0m\n\u001b[1;32m   4101\u001b[0m                 \u001b[0;32mreturn\u001b[0m \u001b[0mself\u001b[0m\u001b[0;34m.\u001b[0m\u001b[0m_getitem_multilevel\u001b[0m\u001b[0;34m(\u001b[0m\u001b[0mkey\u001b[0m\u001b[0;34m)\u001b[0m\u001b[0;34m\u001b[0m\u001b[0;34m\u001b[0m\u001b[0m\n\u001b[0;32m-> 4102\u001b[0;31m             \u001b[0mindexer\u001b[0m \u001b[0;34m=\u001b[0m \u001b[0mself\u001b[0m\u001b[0;34m.\u001b[0m\u001b[0mcolumns\u001b[0m\u001b[0;34m.\u001b[0m\u001b[0mget_loc\u001b[0m\u001b[0;34m(\u001b[0m\u001b[0mkey\u001b[0m\u001b[0;34m)\u001b[0m\u001b[0;34m\u001b[0m\u001b[0;34m\u001b[0m\u001b[0m\n\u001b[0m\u001b[1;32m   4103\u001b[0m             \u001b[0;32mif\u001b[0m \u001b[0mis_integer\u001b[0m\u001b[0;34m(\u001b[0m\u001b[0mindexer\u001b[0m\u001b[0;34m)\u001b[0m\u001b[0;34m:\u001b[0m\u001b[0;34m\u001b[0m\u001b[0;34m\u001b[0m\u001b[0m\n\u001b[1;32m   4104\u001b[0m                 \u001b[0mindexer\u001b[0m \u001b[0;34m=\u001b[0m \u001b[0;34m[\u001b[0m\u001b[0mindexer\u001b[0m\u001b[0;34m]\u001b[0m\u001b[0;34m\u001b[0m\u001b[0;34m\u001b[0m\u001b[0m\n",
            "\u001b[0;32m/usr/local/lib/python3.11/dist-packages/pandas/core/indexes/base.py\u001b[0m in \u001b[0;36mget_loc\u001b[0;34m(self, key)\u001b[0m\n\u001b[1;32m   3810\u001b[0m             ):\n\u001b[1;32m   3811\u001b[0m                 \u001b[0;32mraise\u001b[0m \u001b[0mInvalidIndexError\u001b[0m\u001b[0;34m(\u001b[0m\u001b[0mkey\u001b[0m\u001b[0;34m)\u001b[0m\u001b[0;34m\u001b[0m\u001b[0;34m\u001b[0m\u001b[0m\n\u001b[0;32m-> 3812\u001b[0;31m             \u001b[0;32mraise\u001b[0m \u001b[0mKeyError\u001b[0m\u001b[0;34m(\u001b[0m\u001b[0mkey\u001b[0m\u001b[0;34m)\u001b[0m \u001b[0;32mfrom\u001b[0m \u001b[0merr\u001b[0m\u001b[0;34m\u001b[0m\u001b[0;34m\u001b[0m\u001b[0m\n\u001b[0m\u001b[1;32m   3813\u001b[0m         \u001b[0;32mexcept\u001b[0m \u001b[0mTypeError\u001b[0m\u001b[0;34m:\u001b[0m\u001b[0;34m\u001b[0m\u001b[0;34m\u001b[0m\u001b[0m\n\u001b[1;32m   3814\u001b[0m             \u001b[0;31m# If we have a listlike key, _check_indexing_error will raise\u001b[0m\u001b[0;34m\u001b[0m\u001b[0;34m\u001b[0m\u001b[0m\n",
            "\u001b[0;31mKeyError\u001b[0m: 'time_to_first_call'"
          ]
        }
      ]
    },
    {
      "cell_type": "code",
      "source": [
        "# Вывод 1: Длительность между заявкой и первым звонком не влияет на конверсию,\n",
        "# так как при разной длительности одинковая конверсия."
      ],
      "metadata": {
        "id": "9mJXuipxfpQ2"
      },
      "execution_count": null,
      "outputs": []
    },
    {
      "cell_type": "code",
      "source": [
        "# Гипотеза 4: День недели вводного урока и Время проведения вводного урока\n",
        "df['trial_appointment_datetime'] = pd.to_datetime(df['trial_appointment_datetime'])\n",
        "df['trial_appointment_day'] = df['trial_appointment_datetime'].dt.day_name()\n",
        "day_conversion = df.groupby('trial_appointment_day')['is_paid'].mean()\n",
        "print(day_conversion.sort_values(ascending=False))"
      ],
      "metadata": {
        "colab": {
          "base_uri": "https://localhost:8080/"
        },
        "id": "yiAknXtEe8OX",
        "outputId": "f293382f-8c62-4ae4-b378-d47c5c1442b5"
      },
      "execution_count": null,
      "outputs": [
        {
          "output_type": "stream",
          "name": "stdout",
          "text": [
            "trial_appointment_day\n",
            "Tuesday      0.521708\n",
            "Thursday     0.512229\n",
            "Wednesday    0.503093\n",
            "Saturday     0.502766\n",
            "Sunday       0.501389\n",
            "Monday       0.495426\n",
            "Friday       0.475749\n",
            "Name: is_paid, dtype: float64\n"
          ]
        }
      ]
    },
    {
      "cell_type": "code",
      "source": [
        "def get_time_of_day(hour):\n",
        "    if 6 <= hour < 12:\n",
        "        return 'Утро'\n",
        "    elif 12 <= hour < 18:\n",
        "        return 'День'\n",
        "    elif 18 <= hour < 24:\n",
        "        return 'Вечер'\n",
        "    else:\n",
        "        return 'Ночь'"
      ],
      "metadata": {
        "id": "F1uuj2tKhqDS"
      },
      "execution_count": null,
      "outputs": []
    },
    {
      "cell_type": "code",
      "source": [
        "df['trial_appointment_datetime'] = pd.to_datetime(df['trial_appointment_datetime'])\n",
        "df['trial_appointment_hour'] = df['trial_appointment_datetime'].dt.hour\n",
        "df['time_of_day'] = df['trial_appointment_hour'].apply(get_time_of_day)\n",
        "hour_conversion = df.groupby('time_of_day')['is_paid'].mean()\n",
        "print(day_conversion.sort_values(ascending=False))"
      ],
      "metadata": {
        "colab": {
          "base_uri": "https://localhost:8080/"
        },
        "id": "kG4lP5VgbBoS",
        "outputId": "02912394-8505-4398-afd8-51fdf4bd756c"
      },
      "execution_count": null,
      "outputs": [
        {
          "output_type": "stream",
          "name": "stdout",
          "text": [
            "time_of_day\n",
            "Вечер    0.514263\n",
            "Утро     0.502977\n",
            "Ночь     0.501377\n",
            "День     0.487997\n",
            "Name: is_paid, dtype: float64\n"
          ]
        }
      ]
    },
    {
      "cell_type": "code",
      "source": [
        "#Выввод 2: День недели и Время проведения вводного урока не влияет на конверсию."
      ],
      "metadata": {
        "id": "K5z8RjRPbBq3"
      },
      "execution_count": null,
      "outputs": []
    },
    {
      "cell_type": "code",
      "source": [
        "# Гипотеза 5: День недели заявки и время заявки\n",
        "df['application_datetime'] = pd.to_datetime(df['application_datetime'])\n",
        "df['application_day'] = df['application_datetime'].dt.day_name()\n",
        "day_conversion = df.groupby('application_day')['is_paid'].mean()\n",
        "print(day_conversion.sort_values(ascending=False))"
      ],
      "metadata": {
        "colab": {
          "base_uri": "https://localhost:8080/"
        },
        "id": "QQP4S8bMeDrA",
        "outputId": "dcaa78c4-e218-4f67-e81e-9a650ec211e0"
      },
      "execution_count": null,
      "outputs": [
        {
          "output_type": "stream",
          "name": "stdout",
          "text": [
            "application_day\n",
            "Tuesday      0.507904\n",
            "Friday       0.507368\n",
            "Monday       0.506839\n",
            "Sunday       0.503497\n",
            "Wednesday    0.499647\n",
            "Saturday     0.498609\n",
            "Thursday     0.488950\n",
            "Name: is_paid, dtype: float64\n"
          ]
        }
      ]
    },
    {
      "cell_type": "code",
      "source": [
        "df['application_hour'] = df['application_datetime'].dt.hour\n",
        "df['time_of_day'] = df['application_hour'].apply(get_time_of_day)\n",
        "day_conversion = df.groupby('time_of_day')['is_paid'].mean()\n",
        "print(day_conversion.sort_values(ascending=False))"
      ],
      "metadata": {
        "colab": {
          "base_uri": "https://localhost:8080/"
        },
        "id": "eYjukC6AeD3w",
        "outputId": "0891f8b3-bc18-4cc6-823c-c521dadd5c4d"
      },
      "execution_count": null,
      "outputs": [
        {
          "output_type": "stream",
          "name": "stdout",
          "text": [
            "time_of_day\n",
            "Вечер    0.514263\n",
            "Утро     0.502977\n",
            "Ночь     0.501377\n",
            "День     0.487997\n",
            "Name: is_paid, dtype: float64\n"
          ]
        }
      ]
    },
    {
      "cell_type": "code",
      "source": [
        "#Вывод 3: День недели и Время заявки не влияет на конверсию."
      ],
      "metadata": {
        "id": "Q0uKg9Ljg1kN"
      },
      "execution_count": null,
      "outputs": []
    },
    {
      "cell_type": "code",
      "source": [
        "# Гипотеза 6: Влияние пола клиента на конверсию\n",
        "gender_conversion = df.groupby('gender')['is_paid'].mean()\n",
        "print(gender_conversion.sort_values(ascending=False))"
      ],
      "metadata": {
        "colab": {
          "base_uri": "https://localhost:8080/"
        },
        "id": "vOTJkxc2g1tX",
        "outputId": "78aa2d91-5673-46ff-a9fc-5c7cf1257fda"
      },
      "execution_count": null,
      "outputs": [
        {
          "output_type": "stream",
          "name": "stdout",
          "text": [
            "gender\n",
            "1.0    0.511928\n",
            "0.0    0.497096\n",
            "Name: is_paid, dtype: float64\n"
          ]
        }
      ]
    },
    {
      "cell_type": "code",
      "source": [
        "#Вывод 4: Пол клиента не влияет на конверсию."
      ],
      "metadata": {
        "id": "rJTU0Y6qg1wW"
      },
      "execution_count": null,
      "outputs": []
    },
    {
      "cell_type": "code",
      "source": [
        "# Гипотеза 5: День недели заявки и время звонков\n",
        "df['application_datetime'] = pd.to_datetime(df['application_datetime'])\n",
        "df['application_day'] = df['application_datetime'].dt.day_name()\n",
        "day_conversion = df.groupby('application_day')['is_paid'].mean()\n",
        "print(day_conversion.sort_values(ascending=False))"
      ],
      "metadata": {
        "id": "zwGPMxggg1yt"
      },
      "execution_count": null,
      "outputs": []
    },
    {
      "cell_type": "code",
      "source": [
        "# Рекомендация 1: Увеличить бюджет на рекламу в источниках заявок с высокой конверсией, а неэффективные пересмотреть или оптимизировать.\n",
        "# Рекомендация 2: Выявить операторов с высокой конверсией и изучить их техники общения.\n",
        "# Провести обучение для остальных операторов, чтобы они могли использовать лучшие практики.\n",
        "\n",
        "# Вывод 1: Длительность между заявкой и первым звонком не влияет на конверсию, так как при разной длительности одинковая конверсия.\n",
        "# Вывод 2: День недели и Время проведения вводного урока не влияет на конверсию.\n",
        "# Вывод 3: День недели и Время заявки не влияет на конверсию.\n",
        "#Вывод 4: Пол клиента не влияет на конверсию."
      ],
      "metadata": {
        "id": "N4q9bk5EeD9N"
      },
      "execution_count": null,
      "outputs": []
    }
  ]
}